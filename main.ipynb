{
 "cells": [
  {
   "cell_type": "code",
   "execution_count": 21,
   "metadata": {},
   "outputs": [],
   "source": [
    "from buffertree import *"
   ]
  },
  {
   "cell_type": "code",
   "execution_count": 22,
   "metadata": {},
   "outputs": [],
   "source": [
    "B = BufferTree(8)"
   ]
  },
  {
   "cell_type": "code",
   "execution_count": 23,
   "metadata": {},
   "outputs": [
    {
     "name": "stdout",
     "output_type": "stream",
     "text": [
      "After write insert operators into buffers, the tree looks like:\n",
      "Level_0 , children num is 3 , key num is 2 : 7 11 \n",
      "Level_1 , children num is 0 , key num is 5 : 1 2 3 5 6 \n",
      "Level_1 , children num is 0 , key num is 3 : 8 9 10 \n",
      "Level_1 , children num is 0 , key num is 5 : 15 16 17 18 19 \n"
     ]
    }
   ],
   "source": [
    "# 插入操作写入到buffer\n",
    "array = [8, 9, 10, 11, 15, 16, 17, 18, 19, 20, 21, 1, 7, 5, 3, 6, 2, 4, 14, 12, 13]\n",
    "for i in array:\n",
    "    B.bufferinsert((i, \"i\"))\n",
    "print(\"After write insert operators into buffers, the tree looks like:\")\n",
    "B.print_tree(B.root)"
   ]
  },
  {
   "cell_type": "code",
   "execution_count": 24,
   "metadata": {},
   "outputs": [
    {
     "name": "stdout",
     "output_type": "stream",
     "text": [
      "After emptying all buffers, the tree looks like:\n",
      "Level_0 , children num is 4 , key num is 3 : 7 11 18 \n",
      "Level_1 , children num is 0 , key num is 6 : 1 2 3 4 5 6 \n",
      "Level_1 , children num is 0 , key num is 3 : 8 9 10 \n",
      "Level_1 , children num is 0 , key num is 6 : 12 13 14 15 16 17 \n",
      "Level_1 , children num is 0 , key num is 3 : 19 20 21 \n"
     ]
    }
   ],
   "source": [
    "# 清空buffer\n",
    "B.emptyallbuffers()\n",
    "print(\"After emptying all buffers, the tree looks like:\")\n",
    "B.print_tree(B.root)"
   ]
  },
  {
   "cell_type": "code",
   "execution_count": 25,
   "metadata": {},
   "outputs": [
    {
     "name": "stdout",
     "output_type": "stream",
     "text": [
      "key 4   in BufferTree: True\n",
      "key 4.5 in BufferTree: False\n"
     ]
    }
   ],
   "source": [
    "# 查询        \n",
    "print(\"key 4   in BufferTree:\", B.search(4,B.root))\n",
    "print(\"key 4.5 in BufferTree:\", B.search(4.5,B.root))"
   ]
  },
  {
   "cell_type": "code",
   "execution_count": 26,
   "metadata": {},
   "outputs": [
    {
     "name": "stdout",
     "output_type": "stream",
     "text": [
      "keys in sort are: [1, 2, 3, 4, 5, 6, 7, 8, 9, 10, 11, 12, 13, 14, 15, 16, 17, 18, 19, 20, 21]\n"
     ]
    }
   ],
   "source": [
    "# 顺序输出        \n",
    "sorted_array = []\n",
    "B.inorder(B.root, sorted_array)\n",
    "print(\"keys in sort are:\",sorted_array)"
   ]
  },
  {
   "cell_type": "code",
   "execution_count": 27,
   "metadata": {},
   "outputs": [
    {
     "name": "stdout",
     "output_type": "stream",
     "text": [
      "After deletion, the tree looks like:\n",
      "Level_0 , children num is 0 , key num is 0 : \n",
      "\n",
      "key 4 in BufferTree: False\n"
     ]
    }
   ],
   "source": [
    "# 删除操作写入buffer\n",
    "array = [8, 9, 10, 11, 15, 16, 17, 18, 19, 20, 21, 1, 7, 5, 3, 6, 2, 4, 14, 12, 13]\n",
    "for i in array:\n",
    "    B.bufferinsert((i, \"d\"))\n",
    "B.emptyallbuffers()\n",
    "print(\"After deletion, the tree looks like:\")\n",
    "B.print_tree(B.root)\n",
    "print()\n",
    "\n",
    "print(\"key 4 in BufferTree:\", B.search(4,B.root))  "
   ]
  },
  {
   "cell_type": "code",
   "execution_count": null,
   "metadata": {},
   "outputs": [],
   "source": []
  }
 ],
 "metadata": {
  "kernelspec": {
   "display_name": "Python 3",
   "language": "python",
   "name": "python3"
  },
  "language_info": {
   "codemirror_mode": {
    "name": "ipython",
    "version": 3
   },
   "file_extension": ".py",
   "mimetype": "text/x-python",
   "name": "python",
   "nbconvert_exporter": "python",
   "pygments_lexer": "ipython3",
   "version": "3.6.6"
  },
  "orig_nbformat": 4,
  "vscode": {
   "interpreter": {
    "hash": "db9a40ee5e7ac02ddcb88f8fe5d852f414aaa1fdb288acdd7af2dc72600edaa2"
   }
  }
 },
 "nbformat": 4,
 "nbformat_minor": 2
}
